{
 "cells": [
  {
   "cell_type": "markdown",
   "metadata": {},
   "source": [
    "# Load VN30 Constituents\n",
    "\n",
    "This notebook loads VN30 constituents from vnstock API and saves to CSV.\n",
    "\n",
    "## Requirements\n",
    "- vnstock library installed\n",
    "- StocketAI data acquisition module"
   ]
  },
  {
   "cell_type": "code",
   "execution_count": null,
   "metadata": {},
   "outputs": [],
   "source": [
    "# Enable autoreload for development\n",
    "%load_ext autoreload\n",
    "%autoreload 2\n",
    "%reload_ext autoreload\n",
    "\n",
    "# Import required libraries\n",
    "import sys\n",
    "from pathlib import Path\n",
    "from datetime import datetime\n",
    "\n",
    "# Add src to path for importing StocketAI modules\n",
    "project_root = Path.cwd().parent.parent\n",
    "src_path = project_root / 'src'\n",
    "if str(src_path) not in sys.path:\n",
    "    sys.path.insert(0, str(src_path))\n",
    "\n",
    "# Import StocketAI modules\n",
    "from data_acquisition.vnstock_client import VNStockClient\n",
    "\n",
    "print(\"Libraries imported successfully!\")"
   ]
  },
  {
   "cell_type": "code",
   "execution_count": null,
   "metadata": {},
   "outputs": [],
   "source": [
    "from data_acquisition.vnstock_client import VNStockClient\n",
    "\n",
    "# Initialize VNStock client and load VN30 constituents\n",
    "client = VNStockClient()\n",
    "print(\"Loading VN30 constituents...\")\n",
    "\n",
    "# Load data from vnstock API\n",
    "vn30_constituents = client.get_vn30_constituents(source='VCI')\n",
    "print(f\"Successfully loaded {len(vn30_constituents)} VN30 constituents\")\n",
    "\n",
    "# Save to CSV\n",
    "output_path = project_root / 'data' / 'symbols' / f'vn30_constituents.csv'\n",
    "output_path.parent.mkdir(parents=True, exist_ok=True)\n",
    "\n",
    "vn30_constituents.to_csv(output_path, index=False)\n",
    "print(f\"Data saved to: {output_path}\")\n",
    "print(\"\\n✓ VN30 constituents loading and saving completed!\")"
   ]
  }
 ],
 "metadata": {
  "kernelspec": {
   "display_name": "stocket_ai_3.13_env",
   "language": "python",
   "name": "python3"
  },
  "language_info": {
   "codemirror_mode": {
    "name": "ipython",
    "version": 3
   },
   "file_extension": ".py",
   "mimetype": "text/x-python",
   "name": "python",
   "nbconvert_exporter": "python",
   "pygments_lexer": "ipython3",
   "version": "3.13.5"
  }
 },
 "nbformat": 4,
 "nbformat_minor": 4
}
