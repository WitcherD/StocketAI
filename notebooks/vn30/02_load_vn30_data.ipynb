{
 "cells": [
  {
   "cell_type": "markdown",
   "metadata": {},
   "source": [
    "# Load VN30 Data for All Constituents\n",
    "\n",
    "This notebook loads comprehensive data for all VN30 constituents from vnstock API and saves to individual symbol directories.\n",
    "\n",
    "## Requirements\n",
    "\n",
    "- vnstock library installed\n",
    "- StocketAI data acquisition module\n",
    "- VN30 constituents CSV file\n",
    "\n",
    "## Data Types Loaded\n",
    "\n",
    "- Historical price data (10 years)\n",
    "- Financial ratios (yearly/quarterly)\n",
    "- Balance sheet (yearly/quarterly)\n",
    "- Income statement (yearly/quarterly)\n",
    "- Cash flow statement (yearly/quarterly)\n",
    "- Company profile and information\n",
    "- Company shareholders\n",
    "- Company officers\n",
    "- Company events\n",
    "- Company news\n",
    "- Dividend history\n",
    "- Intraday data\n",
    "- Price depth\n",
    "\n",
    "## Sources Used\n",
    "\n",
    "- VCI (primary for historical and financial data)\n",
    "- TCBS (company information, events, news)\n",
    "- MSN (additional data sources)\n",
    "- FMARKET (fund-related data)"
   ]
  },
  {
   "cell_type": "code",
   "execution_count": null,
   "metadata": {},
   "outputs": [],
   "source": [
    "# Enable autoreload for development\n",
    "%load_ext autoreload\n",
    "%autoreload 2\n",
    "%reload_ext autoreload"
   ]
  },
  {
   "cell_type": "code",
   "execution_count": null,
   "metadata": {},
   "outputs": [],
   "source": [
    "# Import required libraries\n",
    "import sys\n",
    "from pathlib import Path\n",
    "from datetime import datetime, timedelta\n",
    "import pandas as pd\n",
    "import logging\n",
    "import time\n",
    "\n",
    "# Add src to path for importing StocketAI modules\n",
    "project_root = Path.cwd().parent.parent\n",
    "src_path = project_root / 'src'\n",
    "if str(src_path) not in sys.path:\n",
    "    sys.path.insert(0, str(src_path))\n",
    "\n",
    "# Import StocketAI modules\n",
    "from data_acquisition.vnstock_client import VNStockClient\n",
    "from data_acquisition.vn30_data_loader import VN30DataLoader\n",
    "\n",
    "print(\"Libraries imported successfully!\")"
   ]
  },
  {
   "cell_type": "code",
   "execution_count": null,
   "metadata": {},
   "outputs": [],
   "source": [
    "# Configure logging\n",
    "logging.basicConfig(\n",
    "    level=logging.INFO,\n",
    "    format='%(asctime)s - %(name)s - %(levelname)s - %(message)s',\n",
    "    handlers=[\n",
    "        logging.FileHandler(project_root / 'logs' / 'vn30_data_loading.log'),\n",
    "        logging.StreamHandler()\n",
    "    ]\n",
    ")\n",
    "logger = logging.getLogger(__name__)\n",
    "\n",
    "print(\"Logging configured successfully!\")"
   ]
  },
  {
   "cell_type": "code",
   "execution_count": null,
   "metadata": {},
   "outputs": [],
   "source": [
    "# Initialize VNStock client and data loader\n",
    "client = VNStockClient()\n",
    "data_loader = VN30DataLoader(client=client)\n",
    "print(\"VNStock client and data loader initialized successfully!\")"
   ]
  },
  {
   "cell_type": "code",
   "execution_count": null,
   "metadata": {},
   "outputs": [],
   "source": [
    "# Load VN30 constituents\n",
    "constituents_path = project_root / 'data' / 'symbols' / 'vn30_constituents.csv'\n",
    "\n",
    "if not constituents_path.exists():\n",
    "    raise FileNotFoundError(f\"VN30 constituents file not found: {constituents_path}\")\n",
    "\n",
    "vn30_df = pd.read_csv(constituents_path)\n",
    "symbols = vn30_df['symbol'].tolist()\n",
    "\n",
    "print(f\"Loaded {len(symbols)} VN30 constituents: {symbols[:5]}...\")\n",
    "\n",
    "# Define date range for historical data (10 years)\n",
    "end_date = datetime.now().strftime('%Y-%m-%d')\n",
    "start_date = (datetime.now() - timedelta(days=10*365)).strftime('%Y-%m-%d')\n",
    "\n",
    "print(f\"Historical data range: {start_date} to {end_date}\")"
   ]
  },
  {
   "cell_type": "code",
   "execution_count": null,
   "metadata": {},
   "outputs": [],
   "source": [
    "# Process all VN30 symbols using the new data loader\n",
    "print(f\"Starting data loading for {len(symbols)} VN30 constituents...\")\n",
    "print(\"This may take several minutes depending on API response times.\")\n",
    "print(\"Note: Existing data files will be skipped to avoid re-downloading.\")\n",
    "\n",
    "# Use the new VN30DataLoader for batch processing\n",
    "results = data_loader.load_multiple_symbols(\n",
    "    symbols=symbols,\n",
    "    base_path=project_root,\n",
    "    force_reload=False,  # Skip existing files\n",
    "    delay_between_symbols=1.0\n",
    ")\n",
    "\n",
    "print(\"\\n\" + \"=\"*50)\n",
    "print(\"DATA LOADING SUMMARY\")\n",
    "print(\"=\"*50)\n",
    "print(f\"Total symbols processed: {results['total_symbols']}\")\n",
    "print(f\"Successful new loads: {results['successful_loads']}\")\n",
    "print(f\"Skipped (already exist): {results['skipped_loads']}\")\n",
    "print(f\"Failed loads: {results['failed_loads']}\")\n",
    "print(f\"Success rate: {results['success_rate']:.1f}%\")\n",
    "print(\"\\n✓ VN30 data loading completed!\")\n",
    "print(\"Check the logs/vn30_data_loading.log file for detailed information.\")"
   ]
  },
  {
   "cell_type": "code",
   "execution_count": null,
   "metadata": {},
   "outputs": [],
   "source": [
    "# Verification: Check what data was loaded\n",
    "print(\"Verifying loaded data...\")\n",
    "\n",
    "# Check a few symbols\n",
    "sample_symbols = symbols[:3]  # Check first 3 symbols\n",
    "\n",
    "for symbol in sample_symbols:\n",
    "    symbol_dir = project_root / 'data' / 'symbols' / symbol / 'raw'\n",
    "    if symbol_dir.exists():\n",
    "        files = list(symbol_dir.glob('*.csv'))\n",
    "        print(f\"\\n{symbol}: {len(files)} data files\")\n",
    "        for file in sorted(files):\n",
    "            try:\n",
    "                df = pd.read_csv(file)\n",
    "                print(f\"  - {file.name}: {len(df)} rows\")\n",
    "            except Exception as e:\n",
    "                print(f\"  - {file.name}: Error reading ({e})\")\n",
    "    else:\n",
    "        print(f\"\\n{symbol}: Directory not found\")\n",
    "\n",
    "print(\"\\n✓ Data verification completed!\")"
   ]
  }
 ],
 "metadata": {
  "kernelspec": {
   "display_name": "stocket_ai_3.13_env",
   "language": "python",
   "name": "python3"
  },
  "language_info": {
   "codemirror_mode": {
    "name": "ipython",
    "version": 3
   },
   "file_extension": ".py",
   "mimetype": "text/x-python",
   "name": "python",
   "nbconvert_exporter": "python",
   "pygments_lexer": "ipython3",
   "version": "3.13.5"
  }
 },
 "nbformat": 4,
 "nbformat_minor": 4
}
