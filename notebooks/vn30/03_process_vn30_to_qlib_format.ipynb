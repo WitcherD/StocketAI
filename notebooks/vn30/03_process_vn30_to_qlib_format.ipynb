{
 "cells": [
  {
   "cell_type": "markdown",
   "metadata": {},
   "source": [
    "# VN30 to Qlib Format Conversion\n",
    "\n",
    "Converts VN30 raw CSV data to qlib binary format for high-performance processing.\n",
    "\n",
    "## Overview\n",
    "- **Input**: Raw VN30 CSV data in `data/symbols/{symbol}/raw/historical_price.csv`\n",
    "- **Output**: Qlib format data in `data/symbols/{symbol}/qlib/`\n",
    "- **Process**: Data validation → Cleaning → Qlib format conversion → Binary format\n",
    "\n",
    "## Requirements\n",
    "- qlib library installed\n",
    "- VN30 raw data available\n",
    "- Python 3.12+ environment"
   ]
  },
  {
   "cell_type": "code",
   "execution_count": 1,
   "metadata": {},
   "outputs": [
    {
     "name": "stdout",
     "output_type": "stream",
     "text": [
      "Project root: e:\\finance\\StocketAI\n"
     ]
    }
   ],
   "source": [
    "# Import required libraries\n",
    "import sys\n",
    "from pathlib import Path\n",
    "import pandas as pd\n",
    "import logging\n",
    "\n",
    "# Add src to path for imports\n",
    "project_root = Path.cwd().parent.parent\n",
    "src_path = project_root / 'src'\n",
    "if str(src_path) not in sys.path:\n",
    "    sys.path.append(str(src_path))\n",
    "\n",
    "# Import VN30 to Qlib converter\n",
    "from data_processing.vn30_to_qlib_converter import Vn30ToQlibConverter\n",
    "\n",
    "# Setup logging\n",
    "logging.basicConfig(\n",
    "    level=logging.INFO,\n",
    "    format='%(asctime)s - %(name)s - %(levelname)s - %(message)s'\n",
    ")\n",
    "logger = logging.getLogger(__name__)\n",
    "\n",
    "print(f\"Project root: {project_root}\")"
   ]
  },
  {
   "cell_type": "code",
   "execution_count": 3,
   "metadata": {},
   "outputs": [
    {
     "name": "stdout",
     "output_type": "stream",
     "text": [
      "Loaded 30 VN30 symbols\n",
      "Sample symbols: ['ACB', 'BCM', 'BID', 'CTG', 'DGC']\n"
     ]
    }
   ],
   "source": [
    "# Configuration\n",
    "SYMBOLS_DIR = project_root / \"data/symbols\"\n",
    "VN30_SYMBOLS_FILE = project_root / \"data/symbols/vn30_constituents.csv\"\n",
    "\n",
    "# Load VN30 symbols\n",
    "symbols_df = pd.read_csv(VN30_SYMBOLS_FILE)\n",
    "symbols = symbols_df['symbol'].tolist()\n",
    "\n",
    "print(f\"Loaded {len(symbols)} VN30 symbols\")\n",
    "print(f\"Sample symbols: {symbols[:5]}\")"
   ]
  },
  {
   "cell_type": "code",
   "execution_count": 4,
   "metadata": {},
   "outputs": [
    {
     "name": "stdout",
     "output_type": "stream",
     "text": [
      "Converter initialized with symbols directory: e:\\finance\\StocketAI\\data\\symbols\n",
      "Validation rules: {'required_columns': ['time', 'open', 'high', 'low', 'close', 'volume'], 'date_format': '%Y-%m-%d', 'min_data_points': 100, 'max_missing_ratio': 0.05}\n"
     ]
    }
   ],
   "source": [
    "# Initialize converter\n",
    "converter = Vn30ToQlibConverter(SYMBOLS_DIR)\n",
    "\n",
    "print(f\"Converter initialized with symbols directory: {SYMBOLS_DIR}\")\n",
    "print(f\"Validation rules: {converter.validation_rules}\")"
   ]
  },
  {
   "cell_type": "code",
   "execution_count": 5,
   "metadata": {},
   "outputs": [
    {
     "name": "stderr",
     "output_type": "stream",
     "text": [
      "2025-10-06 12:57:22,414 - data_processing.vn30_to_qlib_converter - INFO - Data validation passed for ACB: 2750 records\n"
     ]
    },
    {
     "name": "stdout",
     "output_type": "stream",
     "text": [
      "Data validation for ACB:\n",
      "Valid: True\n",
      "✅ Data validation passed\n"
     ]
    }
   ],
   "source": [
    "# Test data validation for first symbol\n",
    "test_symbol = symbols[0]\n",
    "is_valid, error_msg = converter.validate_raw_data(test_symbol)\n",
    "\n",
    "print(f\"Data validation for {test_symbol}:\")\n",
    "print(f\"Valid: {is_valid}\")\n",
    "if not is_valid:\n",
    "    print(f\"Error: {error_msg}\")\n",
    "else:\n",
    "    print(\"✅ Data validation passed\")"
   ]
  },
  {
   "cell_type": "code",
   "execution_count": 6,
   "metadata": {},
   "outputs": [
    {
     "name": "stderr",
     "output_type": "stream",
     "text": [
      "e:\\finance\\StocketAI\\src\\data_processing\\vn30_to_qlib_converter.py:134: FutureWarning: DataFrame.fillna with 'method' is deprecated and will raise in a future version. Use obj.ffill() or obj.bfill() instead.\n",
      "  df = df.fillna(method='ffill', limit=5)  # Fill up to 5 consecutive missing days\n",
      "2025-10-06 12:57:28,408 - data_processing.vn30_to_qlib_converter - INFO - Cleaned data for ACB: 3622 records\n"
     ]
    },
    {
     "name": "stdout",
     "output_type": "stream",
     "text": [
      "Data cleaning successful: 3622 records\n",
      "Columns: ['time', 'open', 'high', 'low', 'close', 'volume', 'data_source']\n",
      "Date range: 2015-10-05 00:00:00 to 2025-10-03 00:00:00\n",
      "Missing values: 0\n"
     ]
    }
   ],
   "source": [
    "# Test data cleaning for first symbol\n",
    "cleaned_df = converter.clean_raw_data(test_symbol)\n",
    "\n",
    "if cleaned_df is not None:\n",
    "    print(f\"Data cleaning successful: {len(cleaned_df)} records\")\n",
    "    print(f\"Columns: {list(cleaned_df.columns)}\")\n",
    "    print(f\"Date range: {cleaned_df['time'].min()} to {cleaned_df['time'].max()}\")\n",
    "    print(f\"Missing values: {cleaned_df.isnull().sum().sum()}\")\n",
    "else:\n",
    "    print(\"❌ Data cleaning failed\")"
   ]
  },
  {
   "cell_type": "code",
   "execution_count": 7,
   "metadata": {},
   "outputs": [
    {
     "name": "stderr",
     "output_type": "stream",
     "text": [
      "2025-10-06 12:57:36,789 - data_processing.vn30_to_qlib_converter - INFO - Prepared qlib format for ACB: 3622 records\n"
     ]
    },
    {
     "name": "stdout",
     "output_type": "stream",
     "text": [
      "Qlib format preparation successful: 3622 records\n",
      "Columns: ['time', 'symbol', 'open', 'high', 'low', 'close', 'volume']\n",
      "Sample data:\n",
      "        time symbol  open  high   low  close    volume\n",
      "0 2015-10-05    ACB  3.11  3.14  3.09   3.13  220204.0\n",
      "1 2015-10-06    ACB  3.14  3.27  3.16   3.22  895315.0\n",
      "2 2015-10-07    ACB  3.26  3.22  3.14   3.18  188078.0\n",
      "3 2015-10-08    ACB  3.16  3.28  3.14   3.22  541780.0\n",
      "4 2015-10-09    ACB  3.27  3.31  3.26   3.29  557772.0\n"
     ]
    }
   ],
   "source": [
    "# Test qlib format preparation\n",
    "if cleaned_df is not None:\n",
    "    qlib_df = converter.prepare_qlib_format(test_symbol, cleaned_df)\n",
    "    \n",
    "    if qlib_df is not None:\n",
    "        print(f\"Qlib format preparation successful: {len(qlib_df)} records\")\n",
    "        print(f\"Columns: {list(qlib_df.columns)}\")\n",
    "        print(f\"Sample data:\")\n",
    "        print(qlib_df.head())\n",
    "    else:\n",
    "        print(\"❌ Qlib format preparation failed\")\n",
    "else:\n",
    "    print(\"❌ Cannot test format preparation: cleaned data is None\")"
   ]
  },
  {
   "cell_type": "code",
   "execution_count": 8,
   "metadata": {},
   "outputs": [
    {
     "name": "stderr",
     "output_type": "stream",
     "text": [
      "2025-10-06 12:57:45,099 - data_processing.vn30_to_qlib_converter - INFO - Converting ACB to qlib format...\n",
      "2025-10-06 12:57:45,111 - data_processing.vn30_to_qlib_converter - INFO - Data validation passed for ACB: 2750 records\n",
      "e:\\finance\\StocketAI\\src\\data_processing\\vn30_to_qlib_converter.py:134: FutureWarning: DataFrame.fillna with 'method' is deprecated and will raise in a future version. Use obj.ffill() or obj.bfill() instead.\n",
      "  df = df.fillna(method='ffill', limit=5)  # Fill up to 5 consecutive missing days\n",
      "2025-10-06 12:57:45,139 - data_processing.vn30_to_qlib_converter - INFO - Cleaned data for ACB: 3622 records\n",
      "2025-10-06 12:57:45,141 - data_processing.vn30_to_qlib_converter - INFO - Prepared qlib format for ACB: 3622 records\n",
      "2025-10-06 12:57:45,201 - data_processing.vn30_to_qlib_converter - WARNING - dump_bin not available for ACB, using binary fallback: No module named 'scripts.dump_bin'\n",
      "2025-10-06 12:57:45,212 - data_processing.vn30_to_qlib_converter - INFO - Saved qlib binary format data for ACB to e:\\finance\\StocketAI\\data\\symbols\\ACB\\qlib\\acb.bin (binary fallback)\n"
     ]
    },
    {
     "name": "stdout",
     "output_type": "stream",
     "text": [
      "Converting ACB to qlib format...\n",
      "Conversion result: ✅ Success\n",
      "Output files created: 2\n",
      "  - acb.bin (0.20 MB)\n",
      "  - acb_temp.csv (0.16 MB)\n"
     ]
    }
   ],
   "source": [
    "# Convert single symbol to qlib format\n",
    "print(f\"Converting {test_symbol} to qlib format...\")\n",
    "success = converter.convert_symbol_to_qlib(test_symbol)\n",
    "\n",
    "print(f\"Conversion result: {'✅ Success' if success else '❌ Failed'}\")\n",
    "\n",
    "# Check output files\n",
    "qlib_dir = Path(SYMBOLS_DIR) / test_symbol / 'qlib'\n",
    "if qlib_dir.exists():\n",
    "    output_files = list(qlib_dir.glob('*'))\n",
    "    print(f\"Output files created: {len(output_files)}\")\n",
    "    for file in output_files:\n",
    "        size_mb = file.stat().st_size / (1024 * 1024)\n",
    "        print(f\"  - {file.name} ({size_mb:.2f} MB)\")\n",
    "else:\n",
    "    print(\"❌ Qlib directory not created\")"
   ]
  },
  {
   "cell_type": "code",
   "execution_count": 9,
   "metadata": {},
   "outputs": [
    {
     "name": "stderr",
     "output_type": "stream",
     "text": [
      "2025-10-06 12:57:51,434 - data_processing.vn30_to_qlib_converter - INFO - Starting conversion of 30 symbols to qlib format...\n",
      "2025-10-06 12:57:51,435 - data_processing.vn30_to_qlib_converter - INFO - Converting ACB to qlib format...\n",
      "2025-10-06 12:57:51,446 - data_processing.vn30_to_qlib_converter - INFO - Data validation passed for ACB: 2750 records\n",
      "e:\\finance\\StocketAI\\src\\data_processing\\vn30_to_qlib_converter.py:134: FutureWarning: DataFrame.fillna with 'method' is deprecated and will raise in a future version. Use obj.ffill() or obj.bfill() instead.\n",
      "  df = df.fillna(method='ffill', limit=5)  # Fill up to 5 consecutive missing days\n",
      "2025-10-06 12:57:51,469 - data_processing.vn30_to_qlib_converter - INFO - Cleaned data for ACB: 3622 records\n",
      "2025-10-06 12:57:51,472 - data_processing.vn30_to_qlib_converter - INFO - Prepared qlib format for ACB: 3622 records\n",
      "2025-10-06 12:57:51,501 - data_processing.vn30_to_qlib_converter - WARNING - dump_bin not available for ACB, using binary fallback: No module named 'scripts.dump_bin'\n",
      "2025-10-06 12:57:51,511 - data_processing.vn30_to_qlib_converter - INFO - Saved qlib binary format data for ACB to e:\\finance\\StocketAI\\data\\symbols\\ACB\\qlib\\acb.bin (binary fallback)\n",
      "2025-10-06 12:57:51,513 - data_processing.vn30_to_qlib_converter - INFO - Converting BCM to qlib format...\n",
      "2025-10-06 12:57:51,526 - data_processing.vn30_to_qlib_converter - INFO - Data validation passed for BCM: 2154 records\n",
      "e:\\finance\\StocketAI\\src\\data_processing\\vn30_to_qlib_converter.py:134: FutureWarning: DataFrame.fillna with 'method' is deprecated and will raise in a future version. Use obj.ffill() or obj.bfill() instead.\n",
      "  df = df.fillna(method='ffill', limit=5)  # Fill up to 5 consecutive missing days\n",
      "2025-10-06 12:57:51,550 - data_processing.vn30_to_qlib_converter - INFO - Cleaned data for BCM: 2756 records\n",
      "2025-10-06 12:57:51,554 - data_processing.vn30_to_qlib_converter - INFO - Prepared qlib format for BCM: 2756 records\n",
      "2025-10-06 12:57:51,580 - data_processing.vn30_to_qlib_converter - WARNING - dump_bin not available for BCM, using binary fallback: No module named 'scripts.dump_bin'\n",
      "2025-10-06 12:57:51,602 - data_processing.vn30_to_qlib_converter - INFO - Saved qlib binary format data for BCM to e:\\finance\\StocketAI\\data\\symbols\\BCM\\qlib\\bcm.bin (binary fallback)\n",
      "2025-10-06 12:57:51,604 - data_processing.vn30_to_qlib_converter - INFO - Converting BID to qlib format...\n",
      "2025-10-06 12:57:51,617 - data_processing.vn30_to_qlib_converter - INFO - Data validation passed for BID: 2750 records\n"
     ]
    },
    {
     "name": "stdout",
     "output_type": "stream",
     "text": [
      "Starting conversion of 30 VN30 symbols to qlib format...\n",
      "============================================================\n"
     ]
    },
    {
     "name": "stderr",
     "output_type": "stream",
     "text": [
      "e:\\finance\\StocketAI\\src\\data_processing\\vn30_to_qlib_converter.py:134: FutureWarning: DataFrame.fillna with 'method' is deprecated and will raise in a future version. Use obj.ffill() or obj.bfill() instead.\n",
      "  df = df.fillna(method='ffill', limit=5)  # Fill up to 5 consecutive missing days\n",
      "2025-10-06 12:57:51,642 - data_processing.vn30_to_qlib_converter - INFO - Cleaned data for BID: 3624 records\n",
      "2025-10-06 12:57:51,645 - data_processing.vn30_to_qlib_converter - INFO - Prepared qlib format for BID: 3624 records\n",
      "2025-10-06 12:57:51,677 - data_processing.vn30_to_qlib_converter - WARNING - dump_bin not available for BID, using binary fallback: No module named 'scripts.dump_bin'\n",
      "2025-10-06 12:57:51,685 - data_processing.vn30_to_qlib_converter - INFO - Saved qlib binary format data for BID to e:\\finance\\StocketAI\\data\\symbols\\BID\\qlib\\bid.bin (binary fallback)\n",
      "2025-10-06 12:57:51,687 - data_processing.vn30_to_qlib_converter - INFO - Converting CTG to qlib format...\n",
      "2025-10-06 12:57:51,701 - data_processing.vn30_to_qlib_converter - INFO - Data validation passed for CTG: 2750 records\n",
      "e:\\finance\\StocketAI\\src\\data_processing\\vn30_to_qlib_converter.py:134: FutureWarning: DataFrame.fillna with 'method' is deprecated and will raise in a future version. Use obj.ffill() or obj.bfill() instead.\n",
      "  df = df.fillna(method='ffill', limit=5)  # Fill up to 5 consecutive missing days\n",
      "2025-10-06 12:57:51,724 - data_processing.vn30_to_qlib_converter - INFO - Cleaned data for CTG: 3624 records\n",
      "2025-10-06 12:57:51,727 - data_processing.vn30_to_qlib_converter - INFO - Prepared qlib format for CTG: 3624 records\n",
      "2025-10-06 12:57:51,769 - data_processing.vn30_to_qlib_converter - WARNING - dump_bin not available for CTG, using binary fallback: No module named 'scripts.dump_bin'\n",
      "2025-10-06 12:57:51,779 - data_processing.vn30_to_qlib_converter - INFO - Saved qlib binary format data for CTG to e:\\finance\\StocketAI\\data\\symbols\\CTG\\qlib\\ctg.bin (binary fallback)\n",
      "2025-10-06 12:57:51,781 - data_processing.vn30_to_qlib_converter - INFO - Converting DGC to qlib format...\n",
      "2025-10-06 12:57:51,794 - data_processing.vn30_to_qlib_converter - INFO - Data validation passed for DGC: 2750 records\n",
      "e:\\finance\\StocketAI\\src\\data_processing\\vn30_to_qlib_converter.py:134: FutureWarning: DataFrame.fillna with 'method' is deprecated and will raise in a future version. Use obj.ffill() or obj.bfill() instead.\n",
      "  df = df.fillna(method='ffill', limit=5)  # Fill up to 5 consecutive missing days\n",
      "2025-10-06 12:57:51,819 - data_processing.vn30_to_qlib_converter - INFO - Cleaned data for DGC: 3619 records\n",
      "2025-10-06 12:57:51,824 - data_processing.vn30_to_qlib_converter - INFO - Prepared qlib format for DGC: 3619 records\n",
      "2025-10-06 12:57:51,863 - data_processing.vn30_to_qlib_converter - WARNING - dump_bin not available for DGC, using binary fallback: No module named 'scripts.dump_bin'\n",
      "2025-10-06 12:57:51,870 - data_processing.vn30_to_qlib_converter - INFO - Saved qlib binary format data for DGC to e:\\finance\\StocketAI\\data\\symbols\\DGC\\qlib\\dgc.bin (binary fallback)\n",
      "2025-10-06 12:57:51,872 - data_processing.vn30_to_qlib_converter - INFO - Converting FPT to qlib format...\n",
      "2025-10-06 12:57:51,885 - data_processing.vn30_to_qlib_converter - INFO - Data validation passed for FPT: 2750 records\n",
      "e:\\finance\\StocketAI\\src\\data_processing\\vn30_to_qlib_converter.py:134: FutureWarning: DataFrame.fillna with 'method' is deprecated and will raise in a future version. Use obj.ffill() or obj.bfill() instead.\n",
      "  df = df.fillna(method='ffill', limit=5)  # Fill up to 5 consecutive missing days\n",
      "2025-10-06 12:57:51,902 - data_processing.vn30_to_qlib_converter - INFO - Cleaned data for FPT: 3624 records\n",
      "2025-10-06 12:57:51,905 - data_processing.vn30_to_qlib_converter - INFO - Prepared qlib format for FPT: 3624 records\n",
      "2025-10-06 12:57:51,928 - data_processing.vn30_to_qlib_converter - WARNING - dump_bin not available for FPT, using binary fallback: No module named 'scripts.dump_bin'\n",
      "2025-10-06 12:57:51,949 - data_processing.vn30_to_qlib_converter - INFO - Saved qlib binary format data for FPT to e:\\finance\\StocketAI\\data\\symbols\\FPT\\qlib\\fpt.bin (binary fallback)\n",
      "2025-10-06 12:57:51,950 - data_processing.vn30_to_qlib_converter - INFO - Converting GAS to qlib format...\n",
      "2025-10-06 12:57:51,963 - data_processing.vn30_to_qlib_converter - INFO - Data validation passed for GAS: 2750 records\n",
      "e:\\finance\\StocketAI\\src\\data_processing\\vn30_to_qlib_converter.py:134: FutureWarning: DataFrame.fillna with 'method' is deprecated and will raise in a future version. Use obj.ffill() or obj.bfill() instead.\n",
      "  df = df.fillna(method='ffill', limit=5)  # Fill up to 5 consecutive missing days\n",
      "2025-10-06 12:57:52,012 - data_processing.vn30_to_qlib_converter - INFO - Cleaned data for GAS: 3624 records\n",
      "2025-10-06 12:57:52,015 - data_processing.vn30_to_qlib_converter - INFO - Prepared qlib format for GAS: 3624 records\n",
      "2025-10-06 12:57:52,046 - data_processing.vn30_to_qlib_converter - WARNING - dump_bin not available for GAS, using binary fallback: No module named 'scripts.dump_bin'\n",
      "2025-10-06 12:57:52,055 - data_processing.vn30_to_qlib_converter - INFO - Saved qlib binary format data for GAS to e:\\finance\\StocketAI\\data\\symbols\\GAS\\qlib\\gas.bin (binary fallback)\n",
      "2025-10-06 12:57:52,057 - data_processing.vn30_to_qlib_converter - INFO - Converting GVR to qlib format...\n",
      "2025-10-06 12:57:52,070 - data_processing.vn30_to_qlib_converter - INFO - Data validation passed for GVR: 2134 records\n",
      "e:\\finance\\StocketAI\\src\\data_processing\\vn30_to_qlib_converter.py:134: FutureWarning: DataFrame.fillna with 'method' is deprecated and will raise in a future version. Use obj.ffill() or obj.bfill() instead.\n",
      "  df = df.fillna(method='ffill', limit=5)  # Fill up to 5 consecutive missing days\n",
      "2025-10-06 12:57:52,088 - data_processing.vn30_to_qlib_converter - INFO - Cleaned data for GVR: 2729 records\n",
      "2025-10-06 12:57:52,090 - data_processing.vn30_to_qlib_converter - INFO - Prepared qlib format for GVR: 2729 records\n",
      "2025-10-06 12:57:52,127 - data_processing.vn30_to_qlib_converter - WARNING - dump_bin not available for GVR, using binary fallback: No module named 'scripts.dump_bin'\n",
      "2025-10-06 12:57:52,132 - data_processing.vn30_to_qlib_converter - INFO - Saved qlib binary format data for GVR to e:\\finance\\StocketAI\\data\\symbols\\GVR\\qlib\\gvr.bin (binary fallback)\n",
      "2025-10-06 12:57:52,134 - data_processing.vn30_to_qlib_converter - INFO - Converting HDB to qlib format...\n",
      "2025-10-06 12:57:52,143 - data_processing.vn30_to_qlib_converter - INFO - Data validation passed for HDB: 2182 records\n",
      "e:\\finance\\StocketAI\\src\\data_processing\\vn30_to_qlib_converter.py:134: FutureWarning: DataFrame.fillna with 'method' is deprecated and will raise in a future version. Use obj.ffill() or obj.bfill() instead.\n",
      "  df = df.fillna(method='ffill', limit=5)  # Fill up to 5 consecutive missing days\n",
      "2025-10-06 12:57:52,163 - data_processing.vn30_to_qlib_converter - INFO - Cleaned data for HDB: 2807 records\n",
      "2025-10-06 12:57:52,165 - data_processing.vn30_to_qlib_converter - INFO - Prepared qlib format for HDB: 2807 records\n",
      "2025-10-06 12:57:52,191 - data_processing.vn30_to_qlib_converter - WARNING - dump_bin not available for HDB, using binary fallback: No module named 'scripts.dump_bin'\n",
      "2025-10-06 12:57:52,199 - data_processing.vn30_to_qlib_converter - INFO - Saved qlib binary format data for HDB to e:\\finance\\StocketAI\\data\\symbols\\HDB\\qlib\\hdb.bin (binary fallback)\n",
      "2025-10-06 12:57:52,200 - data_processing.vn30_to_qlib_converter - INFO - Converting HPG to qlib format...\n",
      "2025-10-06 12:57:52,211 - data_processing.vn30_to_qlib_converter - INFO - Data validation passed for HPG: 2750 records\n",
      "e:\\finance\\StocketAI\\src\\data_processing\\vn30_to_qlib_converter.py:134: FutureWarning: DataFrame.fillna with 'method' is deprecated and will raise in a future version. Use obj.ffill() or obj.bfill() instead.\n",
      "  df = df.fillna(method='ffill', limit=5)  # Fill up to 5 consecutive missing days\n",
      "2025-10-06 12:57:52,230 - data_processing.vn30_to_qlib_converter - INFO - Cleaned data for HPG: 3624 records\n",
      "2025-10-06 12:57:52,233 - data_processing.vn30_to_qlib_converter - INFO - Prepared qlib format for HPG: 3624 records\n",
      "2025-10-06 12:57:52,252 - data_processing.vn30_to_qlib_converter - WARNING - dump_bin not available for HPG, using binary fallback: No module named 'scripts.dump_bin'\n",
      "2025-10-06 12:57:52,271 - data_processing.vn30_to_qlib_converter - INFO - Saved qlib binary format data for HPG to e:\\finance\\StocketAI\\data\\symbols\\HPG\\qlib\\hpg.bin (binary fallback)\n",
      "2025-10-06 12:57:52,273 - data_processing.vn30_to_qlib_converter - INFO - Converting LPB to qlib format...\n",
      "2025-10-06 12:57:52,284 - data_processing.vn30_to_qlib_converter - INFO - Data validation passed for LPB: 2247 records\n",
      "e:\\finance\\StocketAI\\src\\data_processing\\vn30_to_qlib_converter.py:134: FutureWarning: DataFrame.fillna with 'method' is deprecated and will raise in a future version. Use obj.ffill() or obj.bfill() instead.\n",
      "  df = df.fillna(method='ffill', limit=5)  # Fill up to 5 consecutive missing days\n",
      "2025-10-06 12:57:52,303 - data_processing.vn30_to_qlib_converter - INFO - Cleaned data for LPB: 2888 records\n",
      "2025-10-06 12:57:52,305 - data_processing.vn30_to_qlib_converter - INFO - Prepared qlib format for LPB: 2888 records\n",
      "2025-10-06 12:57:52,323 - data_processing.vn30_to_qlib_converter - WARNING - dump_bin not available for LPB, using binary fallback: No module named 'scripts.dump_bin'\n",
      "2025-10-06 12:57:52,335 - data_processing.vn30_to_qlib_converter - INFO - Saved qlib binary format data for LPB to e:\\finance\\StocketAI\\data\\symbols\\LPB\\qlib\\lpb.bin (binary fallback)\n",
      "2025-10-06 12:57:52,338 - data_processing.vn30_to_qlib_converter - INFO - Converting MBB to qlib format...\n",
      "2025-10-06 12:57:52,351 - data_processing.vn30_to_qlib_converter - INFO - Data validation passed for MBB: 2750 records\n",
      "e:\\finance\\StocketAI\\src\\data_processing\\vn30_to_qlib_converter.py:134: FutureWarning: DataFrame.fillna with 'method' is deprecated and will raise in a future version. Use obj.ffill() or obj.bfill() instead.\n",
      "  df = df.fillna(method='ffill', limit=5)  # Fill up to 5 consecutive missing days\n",
      "2025-10-06 12:57:52,379 - data_processing.vn30_to_qlib_converter - INFO - Cleaned data for MBB: 3624 records\n",
      "2025-10-06 12:57:52,382 - data_processing.vn30_to_qlib_converter - INFO - Prepared qlib format for MBB: 3624 records\n",
      "2025-10-06 12:57:52,424 - data_processing.vn30_to_qlib_converter - WARNING - dump_bin not available for MBB, using binary fallback: No module named 'scripts.dump_bin'\n",
      "2025-10-06 12:57:52,435 - data_processing.vn30_to_qlib_converter - INFO - Saved qlib binary format data for MBB to e:\\finance\\StocketAI\\data\\symbols\\MBB\\qlib\\mbb.bin (binary fallback)\n",
      "2025-10-06 12:57:52,438 - data_processing.vn30_to_qlib_converter - INFO - Converting MSN to qlib format...\n",
      "2025-10-06 12:57:52,454 - data_processing.vn30_to_qlib_converter - INFO - Data validation passed for MSN: 2750 records\n",
      "e:\\finance\\StocketAI\\src\\data_processing\\vn30_to_qlib_converter.py:134: FutureWarning: DataFrame.fillna with 'method' is deprecated and will raise in a future version. Use obj.ffill() or obj.bfill() instead.\n",
      "  df = df.fillna(method='ffill', limit=5)  # Fill up to 5 consecutive missing days\n",
      "2025-10-06 12:57:52,481 - data_processing.vn30_to_qlib_converter - INFO - Cleaned data for MSN: 3624 records\n",
      "2025-10-06 12:57:52,484 - data_processing.vn30_to_qlib_converter - INFO - Prepared qlib format for MSN: 3624 records\n",
      "2025-10-06 12:57:52,523 - data_processing.vn30_to_qlib_converter - WARNING - dump_bin not available for MSN, using binary fallback: No module named 'scripts.dump_bin'\n",
      "2025-10-06 12:57:52,534 - data_processing.vn30_to_qlib_converter - INFO - Saved qlib binary format data for MSN to e:\\finance\\StocketAI\\data\\symbols\\MSN\\qlib\\msn.bin (binary fallback)\n",
      "2025-10-06 12:57:52,537 - data_processing.vn30_to_qlib_converter - INFO - Converting MWG to qlib format...\n",
      "2025-10-06 12:57:52,549 - data_processing.vn30_to_qlib_converter - INFO - Data validation passed for MWG: 2750 records\n",
      "e:\\finance\\StocketAI\\src\\data_processing\\vn30_to_qlib_converter.py:134: FutureWarning: DataFrame.fillna with 'method' is deprecated and will raise in a future version. Use obj.ffill() or obj.bfill() instead.\n",
      "  df = df.fillna(method='ffill', limit=5)  # Fill up to 5 consecutive missing days\n",
      "2025-10-06 12:57:52,578 - data_processing.vn30_to_qlib_converter - INFO - Cleaned data for MWG: 3624 records\n",
      "2025-10-06 12:57:52,582 - data_processing.vn30_to_qlib_converter - INFO - Prepared qlib format for MWG: 3624 records\n",
      "2025-10-06 12:57:52,605 - data_processing.vn30_to_qlib_converter - WARNING - dump_bin not available for MWG, using binary fallback: No module named 'scripts.dump_bin'\n",
      "2025-10-06 12:57:52,612 - data_processing.vn30_to_qlib_converter - INFO - Saved qlib binary format data for MWG to e:\\finance\\StocketAI\\data\\symbols\\MWG\\qlib\\mwg.bin (binary fallback)\n",
      "2025-10-06 12:57:52,615 - data_processing.vn30_to_qlib_converter - INFO - Converting PLX to qlib format...\n",
      "2025-10-06 12:57:52,626 - data_processing.vn30_to_qlib_converter - INFO - Data validation passed for PLX: 2363 records\n",
      "e:\\finance\\StocketAI\\src\\data_processing\\vn30_to_qlib_converter.py:134: FutureWarning: DataFrame.fillna with 'method' is deprecated and will raise in a future version. Use obj.ffill() or obj.bfill() instead.\n",
      "  df = df.fillna(method='ffill', limit=5)  # Fill up to 5 consecutive missing days\n",
      "2025-10-06 12:57:52,645 - data_processing.vn30_to_qlib_converter - INFO - Cleaned data for PLX: 3066 records\n",
      "2025-10-06 12:57:52,648 - data_processing.vn30_to_qlib_converter - INFO - Prepared qlib format for PLX: 3066 records\n",
      "2025-10-06 12:57:52,666 - data_processing.vn30_to_qlib_converter - WARNING - dump_bin not available for PLX, using binary fallback: No module named 'scripts.dump_bin'\n",
      "2025-10-06 12:57:52,673 - data_processing.vn30_to_qlib_converter - INFO - Saved qlib binary format data for PLX to e:\\finance\\StocketAI\\data\\symbols\\PLX\\qlib\\plx.bin (binary fallback)\n",
      "2025-10-06 12:57:52,675 - data_processing.vn30_to_qlib_converter - INFO - Converting SAB to qlib format...\n",
      "2025-10-06 12:57:52,686 - data_processing.vn30_to_qlib_converter - INFO - Data validation passed for SAB: 2454 records\n",
      "e:\\finance\\StocketAI\\src\\data_processing\\vn30_to_qlib_converter.py:134: FutureWarning: DataFrame.fillna with 'method' is deprecated and will raise in a future version. Use obj.ffill() or obj.bfill() instead.\n",
      "  df = df.fillna(method='ffill', limit=5)  # Fill up to 5 consecutive missing days\n",
      "2025-10-06 12:57:52,703 - data_processing.vn30_to_qlib_converter - INFO - Cleaned data for SAB: 3200 records\n",
      "2025-10-06 12:57:52,704 - data_processing.vn30_to_qlib_converter - INFO - Prepared qlib format for SAB: 3200 records\n",
      "2025-10-06 12:57:52,736 - data_processing.vn30_to_qlib_converter - WARNING - dump_bin not available for SAB, using binary fallback: No module named 'scripts.dump_bin'\n",
      "2025-10-06 12:57:52,743 - data_processing.vn30_to_qlib_converter - INFO - Saved qlib binary format data for SAB to e:\\finance\\StocketAI\\data\\symbols\\SAB\\qlib\\sab.bin (binary fallback)\n",
      "2025-10-06 12:57:52,744 - data_processing.vn30_to_qlib_converter - INFO - Converting SHB to qlib format...\n",
      "2025-10-06 12:57:52,756 - data_processing.vn30_to_qlib_converter - INFO - Data validation passed for SHB: 2750 records\n",
      "e:\\finance\\StocketAI\\src\\data_processing\\vn30_to_qlib_converter.py:134: FutureWarning: DataFrame.fillna with 'method' is deprecated and will raise in a future version. Use obj.ffill() or obj.bfill() instead.\n",
      "  df = df.fillna(method='ffill', limit=5)  # Fill up to 5 consecutive missing days\n",
      "2025-10-06 12:57:52,779 - data_processing.vn30_to_qlib_converter - INFO - Cleaned data for SHB: 3624 records\n",
      "2025-10-06 12:57:52,782 - data_processing.vn30_to_qlib_converter - INFO - Prepared qlib format for SHB: 3624 records\n",
      "2025-10-06 12:57:52,812 - data_processing.vn30_to_qlib_converter - WARNING - dump_bin not available for SHB, using binary fallback: No module named 'scripts.dump_bin'\n",
      "2025-10-06 12:57:52,818 - data_processing.vn30_to_qlib_converter - INFO - Saved qlib binary format data for SHB to e:\\finance\\StocketAI\\data\\symbols\\SHB\\qlib\\shb.bin (binary fallback)\n",
      "2025-10-06 12:57:52,819 - data_processing.vn30_to_qlib_converter - INFO - Converting SSB to qlib format...\n",
      "2025-10-06 12:57:52,828 - data_processing.vn30_to_qlib_converter - INFO - Data validation passed for SSB: 1382 records\n",
      "e:\\finance\\StocketAI\\src\\data_processing\\vn30_to_qlib_converter.py:134: FutureWarning: DataFrame.fillna with 'method' is deprecated and will raise in a future version. Use obj.ffill() or obj.bfill() instead.\n",
      "  df = df.fillna(method='ffill', limit=5)  # Fill up to 5 consecutive missing days\n",
      "2025-10-06 12:57:52,839 - data_processing.vn30_to_qlib_converter - INFO - Cleaned data for SSB: 1643 records\n",
      "2025-10-06 12:57:52,841 - data_processing.vn30_to_qlib_converter - INFO - Prepared qlib format for SSB: 1643 records\n",
      "2025-10-06 12:57:52,851 - data_processing.vn30_to_qlib_converter - WARNING - dump_bin not available for SSB, using binary fallback: No module named 'scripts.dump_bin'\n",
      "2025-10-06 12:57:52,865 - data_processing.vn30_to_qlib_converter - INFO - Saved qlib binary format data for SSB to e:\\finance\\StocketAI\\data\\symbols\\SSB\\qlib\\ssb.bin (binary fallback)\n",
      "2025-10-06 12:57:52,866 - data_processing.vn30_to_qlib_converter - INFO - Converting SSI to qlib format...\n",
      "2025-10-06 12:57:52,873 - data_processing.vn30_to_qlib_converter - INFO - Data validation passed for SSI: 2750 records\n",
      "e:\\finance\\StocketAI\\src\\data_processing\\vn30_to_qlib_converter.py:134: FutureWarning: DataFrame.fillna with 'method' is deprecated and will raise in a future version. Use obj.ffill() or obj.bfill() instead.\n",
      "  df = df.fillna(method='ffill', limit=5)  # Fill up to 5 consecutive missing days\n",
      "2025-10-06 12:57:52,886 - data_processing.vn30_to_qlib_converter - INFO - Cleaned data for SSI: 3624 records\n",
      "2025-10-06 12:57:52,887 - data_processing.vn30_to_qlib_converter - INFO - Prepared qlib format for SSI: 3624 records\n",
      "2025-10-06 12:57:52,902 - data_processing.vn30_to_qlib_converter - WARNING - dump_bin not available for SSI, using binary fallback: No module named 'scripts.dump_bin'\n",
      "2025-10-06 12:57:52,907 - data_processing.vn30_to_qlib_converter - INFO - Saved qlib binary format data for SSI to e:\\finance\\StocketAI\\data\\symbols\\SSI\\qlib\\ssi.bin (binary fallback)\n",
      "2025-10-06 12:57:52,908 - data_processing.vn30_to_qlib_converter - INFO - Converting STB to qlib format...\n",
      "2025-10-06 12:57:52,914 - data_processing.vn30_to_qlib_converter - INFO - Data validation passed for STB: 2750 records\n",
      "e:\\finance\\StocketAI\\src\\data_processing\\vn30_to_qlib_converter.py:134: FutureWarning: DataFrame.fillna with 'method' is deprecated and will raise in a future version. Use obj.ffill() or obj.bfill() instead.\n",
      "  df = df.fillna(method='ffill', limit=5)  # Fill up to 5 consecutive missing days\n",
      "2025-10-06 12:57:52,927 - data_processing.vn30_to_qlib_converter - INFO - Cleaned data for STB: 3624 records\n",
      "2025-10-06 12:57:52,928 - data_processing.vn30_to_qlib_converter - INFO - Prepared qlib format for STB: 3624 records\n",
      "2025-10-06 12:57:52,943 - data_processing.vn30_to_qlib_converter - WARNING - dump_bin not available for STB, using binary fallback: No module named 'scripts.dump_bin'\n",
      "2025-10-06 12:57:52,948 - data_processing.vn30_to_qlib_converter - INFO - Saved qlib binary format data for STB to e:\\finance\\StocketAI\\data\\symbols\\STB\\qlib\\stb.bin (binary fallback)\n",
      "2025-10-06 12:57:52,949 - data_processing.vn30_to_qlib_converter - INFO - Converting TCB to qlib format...\n",
      "2025-10-06 12:57:52,955 - data_processing.vn30_to_qlib_converter - INFO - Data validation passed for TCB: 2084 records\n",
      "e:\\finance\\StocketAI\\src\\data_processing\\vn30_to_qlib_converter.py:134: FutureWarning: DataFrame.fillna with 'method' is deprecated and will raise in a future version. Use obj.ffill() or obj.bfill() instead.\n",
      "  df = df.fillna(method='ffill', limit=5)  # Fill up to 5 consecutive missing days\n",
      "2025-10-06 12:57:52,967 - data_processing.vn30_to_qlib_converter - INFO - Cleaned data for TCB: 2659 records\n",
      "2025-10-06 12:57:52,968 - data_processing.vn30_to_qlib_converter - INFO - Prepared qlib format for TCB: 2659 records\n",
      "2025-10-06 12:57:52,983 - data_processing.vn30_to_qlib_converter - WARNING - dump_bin not available for TCB, using binary fallback: No module named 'scripts.dump_bin'\n",
      "2025-10-06 12:57:52,988 - data_processing.vn30_to_qlib_converter - INFO - Saved qlib binary format data for TCB to e:\\finance\\StocketAI\\data\\symbols\\TCB\\qlib\\tcb.bin (binary fallback)\n",
      "2025-10-06 12:57:52,989 - data_processing.vn30_to_qlib_converter - INFO - Converting TPB to qlib format...\n",
      "2025-10-06 12:57:52,997 - data_processing.vn30_to_qlib_converter - INFO - Data validation passed for TPB: 2113 records\n",
      "e:\\finance\\StocketAI\\src\\data_processing\\vn30_to_qlib_converter.py:134: FutureWarning: DataFrame.fillna with 'method' is deprecated and will raise in a future version. Use obj.ffill() or obj.bfill() instead.\n",
      "  df = df.fillna(method='ffill', limit=5)  # Fill up to 5 consecutive missing days\n",
      "2025-10-06 12:57:53,012 - data_processing.vn30_to_qlib_converter - INFO - Cleaned data for TPB: 2705 records\n",
      "2025-10-06 12:57:53,014 - data_processing.vn30_to_qlib_converter - INFO - Prepared qlib format for TPB: 2705 records\n",
      "2025-10-06 12:57:53,030 - data_processing.vn30_to_qlib_converter - WARNING - dump_bin not available for TPB, using binary fallback: No module named 'scripts.dump_bin'\n",
      "2025-10-06 12:57:53,045 - data_processing.vn30_to_qlib_converter - INFO - Saved qlib binary format data for TPB to e:\\finance\\StocketAI\\data\\symbols\\TPB\\qlib\\tpb.bin (binary fallback)\n",
      "2025-10-06 12:57:53,046 - data_processing.vn30_to_qlib_converter - INFO - Converting VCB to qlib format...\n",
      "2025-10-06 12:57:53,053 - data_processing.vn30_to_qlib_converter - INFO - Data validation passed for VCB: 2750 records\n",
      "e:\\finance\\StocketAI\\src\\data_processing\\vn30_to_qlib_converter.py:134: FutureWarning: DataFrame.fillna with 'method' is deprecated and will raise in a future version. Use obj.ffill() or obj.bfill() instead.\n",
      "  df = df.fillna(method='ffill', limit=5)  # Fill up to 5 consecutive missing days\n",
      "2025-10-06 12:57:53,064 - data_processing.vn30_to_qlib_converter - INFO - Cleaned data for VCB: 3624 records\n",
      "2025-10-06 12:57:53,066 - data_processing.vn30_to_qlib_converter - INFO - Prepared qlib format for VCB: 3624 records\n",
      "2025-10-06 12:57:53,080 - data_processing.vn30_to_qlib_converter - WARNING - dump_bin not available for VCB, using binary fallback: No module named 'scripts.dump_bin'\n",
      "2025-10-06 12:57:53,090 - data_processing.vn30_to_qlib_converter - INFO - Saved qlib binary format data for VCB to e:\\finance\\StocketAI\\data\\symbols\\VCB\\qlib\\vcb.bin (binary fallback)\n",
      "2025-10-06 12:57:53,091 - data_processing.vn30_to_qlib_converter - INFO - Converting VHM to qlib format...\n",
      "2025-10-06 12:57:53,099 - data_processing.vn30_to_qlib_converter - INFO - Data validation passed for VHM: 2096 records\n",
      "e:\\finance\\StocketAI\\src\\data_processing\\vn30_to_qlib_converter.py:134: FutureWarning: DataFrame.fillna with 'method' is deprecated and will raise in a future version. Use obj.ffill() or obj.bfill() instead.\n",
      "  df = df.fillna(method='ffill', limit=5)  # Fill up to 5 consecutive missing days\n",
      "2025-10-06 12:57:53,114 - data_processing.vn30_to_qlib_converter - INFO - Cleaned data for VHM: 2677 records\n",
      "2025-10-06 12:57:53,115 - data_processing.vn30_to_qlib_converter - INFO - Prepared qlib format for VHM: 2677 records\n",
      "2025-10-06 12:57:53,135 - data_processing.vn30_to_qlib_converter - WARNING - dump_bin not available for VHM, using binary fallback: No module named 'scripts.dump_bin'\n",
      "2025-10-06 12:57:53,144 - data_processing.vn30_to_qlib_converter - INFO - Saved qlib binary format data for VHM to e:\\finance\\StocketAI\\data\\symbols\\VHM\\qlib\\vhm.bin (binary fallback)\n",
      "2025-10-06 12:57:53,145 - data_processing.vn30_to_qlib_converter - INFO - Converting VIB to qlib format...\n",
      "2025-10-06 12:57:53,152 - data_processing.vn30_to_qlib_converter - INFO - Data validation passed for VIB: 2431 records\n",
      "e:\\finance\\StocketAI\\src\\data_processing\\vn30_to_qlib_converter.py:134: FutureWarning: DataFrame.fillna with 'method' is deprecated and will raise in a future version. Use obj.ffill() or obj.bfill() instead.\n",
      "  df = df.fillna(method='ffill', limit=5)  # Fill up to 5 consecutive missing days\n",
      "2025-10-06 12:57:53,166 - data_processing.vn30_to_qlib_converter - INFO - Cleaned data for VIB: 3160 records\n",
      "2025-10-06 12:57:53,169 - data_processing.vn30_to_qlib_converter - INFO - Prepared qlib format for VIB: 3160 records\n",
      "2025-10-06 12:57:53,181 - data_processing.vn30_to_qlib_converter - WARNING - dump_bin not available for VIB, using binary fallback: No module named 'scripts.dump_bin'\n",
      "2025-10-06 12:57:53,185 - data_processing.vn30_to_qlib_converter - INFO - Saved qlib binary format data for VIB to e:\\finance\\StocketAI\\data\\symbols\\VIB\\qlib\\vib.bin (binary fallback)\n",
      "2025-10-06 12:57:53,186 - data_processing.vn30_to_qlib_converter - INFO - Converting VIC to qlib format...\n",
      "2025-10-06 12:57:53,192 - data_processing.vn30_to_qlib_converter - INFO - Data validation passed for VIC: 2750 records\n",
      "e:\\finance\\StocketAI\\src\\data_processing\\vn30_to_qlib_converter.py:134: FutureWarning: DataFrame.fillna with 'method' is deprecated and will raise in a future version. Use obj.ffill() or obj.bfill() instead.\n",
      "  df = df.fillna(method='ffill', limit=5)  # Fill up to 5 consecutive missing days\n",
      "2025-10-06 12:57:53,205 - data_processing.vn30_to_qlib_converter - INFO - Cleaned data for VIC: 3624 records\n",
      "2025-10-06 12:57:53,206 - data_processing.vn30_to_qlib_converter - INFO - Prepared qlib format for VIC: 3624 records\n",
      "2025-10-06 12:57:53,221 - data_processing.vn30_to_qlib_converter - WARNING - dump_bin not available for VIC, using binary fallback: No module named 'scripts.dump_bin'\n",
      "2025-10-06 12:57:53,237 - data_processing.vn30_to_qlib_converter - INFO - Saved qlib binary format data for VIC to e:\\finance\\StocketAI\\data\\symbols\\VIC\\qlib\\vic.bin (binary fallback)\n",
      "2025-10-06 12:57:53,238 - data_processing.vn30_to_qlib_converter - INFO - Converting VJC to qlib format...\n",
      "2025-10-06 12:57:53,244 - data_processing.vn30_to_qlib_converter - INFO - Data validation passed for VJC: 2400 records\n",
      "e:\\finance\\StocketAI\\src\\data_processing\\vn30_to_qlib_converter.py:134: FutureWarning: DataFrame.fillna with 'method' is deprecated and will raise in a future version. Use obj.ffill() or obj.bfill() instead.\n",
      "  df = df.fillna(method='ffill', limit=5)  # Fill up to 5 consecutive missing days\n",
      "2025-10-06 12:57:53,257 - data_processing.vn30_to_qlib_converter - INFO - Cleaned data for VJC: 3118 records\n",
      "2025-10-06 12:57:53,258 - data_processing.vn30_to_qlib_converter - INFO - Prepared qlib format for VJC: 3118 records\n",
      "2025-10-06 12:57:53,271 - data_processing.vn30_to_qlib_converter - WARNING - dump_bin not available for VJC, using binary fallback: No module named 'scripts.dump_bin'\n",
      "2025-10-06 12:57:53,276 - data_processing.vn30_to_qlib_converter - INFO - Saved qlib binary format data for VJC to e:\\finance\\StocketAI\\data\\symbols\\VJC\\qlib\\vjc.bin (binary fallback)\n",
      "2025-10-06 12:57:53,277 - data_processing.vn30_to_qlib_converter - INFO - Converting VNM to qlib format...\n",
      "2025-10-06 12:57:53,283 - data_processing.vn30_to_qlib_converter - INFO - Data validation passed for VNM: 2750 records\n",
      "e:\\finance\\StocketAI\\src\\data_processing\\vn30_to_qlib_converter.py:134: FutureWarning: DataFrame.fillna with 'method' is deprecated and will raise in a future version. Use obj.ffill() or obj.bfill() instead.\n",
      "  df = df.fillna(method='ffill', limit=5)  # Fill up to 5 consecutive missing days\n",
      "2025-10-06 12:57:53,295 - data_processing.vn30_to_qlib_converter - INFO - Cleaned data for VNM: 3624 records\n",
      "2025-10-06 12:57:53,297 - data_processing.vn30_to_qlib_converter - INFO - Prepared qlib format for VNM: 3624 records\n",
      "2025-10-06 12:57:53,322 - data_processing.vn30_to_qlib_converter - WARNING - dump_bin not available for VNM, using binary fallback: No module named 'scripts.dump_bin'\n",
      "2025-10-06 12:57:53,326 - data_processing.vn30_to_qlib_converter - INFO - Saved qlib binary format data for VNM to e:\\finance\\StocketAI\\data\\symbols\\VNM\\qlib\\vnm.bin (binary fallback)\n",
      "2025-10-06 12:57:53,327 - data_processing.vn30_to_qlib_converter - INFO - Converting VPB to qlib format...\n",
      "2025-10-06 12:57:53,333 - data_processing.vn30_to_qlib_converter - INFO - Data validation passed for VPB: 2281 records\n",
      "e:\\finance\\StocketAI\\src\\data_processing\\vn30_to_qlib_converter.py:134: FutureWarning: DataFrame.fillna with 'method' is deprecated and will raise in a future version. Use obj.ffill() or obj.bfill() instead.\n",
      "  df = df.fillna(method='ffill', limit=5)  # Fill up to 5 consecutive missing days\n",
      "2025-10-06 12:57:53,345 - data_processing.vn30_to_qlib_converter - INFO - Cleaned data for VPB: 2948 records\n",
      "2025-10-06 12:57:53,346 - data_processing.vn30_to_qlib_converter - INFO - Prepared qlib format for VPB: 2948 records\n",
      "2025-10-06 12:57:53,359 - data_processing.vn30_to_qlib_converter - WARNING - dump_bin not available for VPB, using binary fallback: No module named 'scripts.dump_bin'\n",
      "2025-10-06 12:57:53,364 - data_processing.vn30_to_qlib_converter - INFO - Saved qlib binary format data for VPB to e:\\finance\\StocketAI\\data\\symbols\\VPB\\qlib\\vpb.bin (binary fallback)\n",
      "2025-10-06 12:57:53,365 - data_processing.vn30_to_qlib_converter - INFO - Converting VRE to qlib format...\n",
      "2025-10-06 12:57:53,370 - data_processing.vn30_to_qlib_converter - INFO - Data validation passed for VRE: 2225 records\n",
      "e:\\finance\\StocketAI\\src\\data_processing\\vn30_to_qlib_converter.py:134: FutureWarning: DataFrame.fillna with 'method' is deprecated and will raise in a future version. Use obj.ffill() or obj.bfill() instead.\n",
      "  df = df.fillna(method='ffill', limit=5)  # Fill up to 5 consecutive missing days\n",
      "2025-10-06 12:57:53,384 - data_processing.vn30_to_qlib_converter - INFO - Cleaned data for VRE: 2867 records\n",
      "2025-10-06 12:57:53,385 - data_processing.vn30_to_qlib_converter - INFO - Prepared qlib format for VRE: 2867 records\n",
      "2025-10-06 12:57:53,399 - data_processing.vn30_to_qlib_converter - WARNING - dump_bin not available for VRE, using binary fallback: No module named 'scripts.dump_bin'\n",
      "2025-10-06 12:57:53,412 - data_processing.vn30_to_qlib_converter - INFO - Saved qlib binary format data for VRE to e:\\finance\\StocketAI\\data\\symbols\\VRE\\qlib\\vre.bin (binary fallback)\n",
      "2025-10-06 12:57:53,413 - data_processing.vn30_to_qlib_converter - INFO - Conversion completed: 30 successful, 0 failed\n"
     ]
    },
    {
     "name": "stdout",
     "output_type": "stream",
     "text": [
      "============================================================\n",
      "Conversion completed!\n"
     ]
    }
   ],
   "source": [
    "# Convert all VN30 symbols\n",
    "print(f\"Starting conversion of {len(symbols)} VN30 symbols to qlib format...\")\n",
    "print(\"=\" * 60)\n",
    "\n",
    "results = converter.convert_all_symbols(symbols)\n",
    "\n",
    "print(\"=\" * 60)\n",
    "print(\"Conversion completed!\")"
   ]
  },
  {
   "cell_type": "code",
   "execution_count": 10,
   "metadata": {},
   "outputs": [
    {
     "name": "stdout",
     "output_type": "stream",
     "text": [
      "Conversion Summary:\n",
      "Total symbols: 30\n",
      "Successful: 30\n",
      "Failed: 0\n",
      "Success rate: 100.0%\n",
      "\n",
      "✅ All symbols converted successfully!\n"
     ]
    }
   ],
   "source": [
    "# Analyze conversion results\n",
    "successful = sum(results.values())\n",
    "total = len(results)\n",
    "failed = total - successful\n",
    "\n",
    "print(f\"Conversion Summary:\")\n",
    "print(f\"Total symbols: {total}\")\n",
    "print(f\"Successful: {successful}\")\n",
    "print(f\"Failed: {failed}\")\n",
    "print(f\"Success rate: {successful/total:.1%}\")\n",
    "\n",
    "if failed > 0:\n",
    "    failed_symbols = [symbol for symbol, success in results.items() if not success]\n",
    "    print(f\"\\nFailed symbols:\")\n",
    "    for symbol in failed_symbols:\n",
    "        print(f\"  - {symbol}\")\n",
    "else:\n",
    "    print(\"\\n✅ All symbols converted successfully!\")"
   ]
  },
  {
   "cell_type": "code",
   "execution_count": 11,
   "metadata": {},
   "outputs": [
    {
     "name": "stdout",
     "output_type": "stream",
     "text": [
      "\n",
      "VN30 Data Conversion Report\n",
      "==========================\n",
      "\n",
      "Total symbols processed: 30\n",
      "Successful conversions: 30\n",
      "Failed conversions: 0\n",
      "\n",
      "Success rate: 100.0%\n",
      "\n",
      "Failed symbols:\n",
      "\n",
      "\n",
      "Report saved to: e:\\finance\\StocketAI\\data\\symbols\\conversion_report.txt\n"
     ]
    }
   ],
   "source": [
    "# Generate conversion report\n",
    "report = converter.generate_conversion_report(results)\n",
    "print(report)\n",
    "\n",
    "# Save report to file\n",
    "report_file = Path(SYMBOLS_DIR) / 'conversion_report.txt'\n",
    "with open(report_file, 'w') as f:\n",
    "    f.write(report)\n",
    "    \n",
    "print(f\"\\nReport saved to: {report_file}\")"
   ]
  },
  {
   "cell_type": "markdown",
   "metadata": {},
   "source": [
    "## Next Steps\n",
    "\n",
    "The VN30 data has been successfully converted to qlib format. Next steps:\n",
    "\n",
    "1. **Feature Engineering**: Add technical indicators using qlib expressions\n",
    "2. **Model Training**: Use processed data for baseline model training\n",
    "3. **Performance Testing**: Verify data loading and processing speeds\n",
    "\n",
    "The converted data is now ready for Task 04 (Baseline Model Training)."
   ]
  }
 ],
 "metadata": {
  "kernelspec": {
   "display_name": "stocket_ai_3.13_env",
   "language": "python",
   "name": "python3"
  },
  "language_info": {
   "codemirror_mode": {
    "name": "ipython",
    "version": 3
   },
   "file_extension": ".py",
   "mimetype": "text/x-python",
   "name": "python",
   "nbconvert_exporter": "python",
   "pygments_lexer": "ipython3",
   "version": "3.13.5"
  }
 },
 "nbformat": 4,
 "nbformat_minor": 4
}
